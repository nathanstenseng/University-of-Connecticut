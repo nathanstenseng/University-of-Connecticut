{
 "cells": [
  {
   "cell_type": "markdown",
   "metadata": {},
   "source": [
    "# MSE Homework 1"
   ]
  },
  {
   "cell_type": "code",
   "execution_count": 1,
   "metadata": {},
   "outputs": [],
   "source": [
    "from thermostate import Q_\n",
    "import math\n",
    "import matplotlib.pyplot as plt\n",
    "import numpy as np"
   ]
  },
  {
   "cell_type": "code",
   "execution_count": 2,
   "metadata": {},
   "outputs": [],
   "source": [
    "pi = math.pi\n",
    "e = Q_(1.602e-19, \"C\")\n",
    "epsilon_o = Q_(8.85e-12, \"F/m\")"
   ]
  },
  {
   "cell_type": "markdown",
   "metadata": {},
   "source": [
    "## Problem 2.16"
   ]
  },
  {
   "cell_type": "markdown",
   "metadata": {},
   "source": [
    "The atomic radii of Mg$^{2+}$ and F$^-$ ions are 0.072 and 0.133 nm, respectively.\n",
    "\n",
    "(a) Calculate the force of attraction between these two ions at their equilibrium\n",
    "interionic separation (i.e., when the ions just touch one another).\n",
    "\n",
    "(b) What is the force of repulsion at this same separation distance."
   ]
  },
  {
   "cell_type": "markdown",
   "metadata": {},
   "source": [
    "### Solution"
   ]
  },
  {
   "cell_type": "markdown",
   "metadata": {},
   "source": [
    "Important equations:\n",
    "\n",
    "1. $F=\\frac{1}{4\\pi \\epsilon _{o} r^2} (|Z_1|e)(|Z_2|e)$"
   ]
  },
  {
   "cell_type": "code",
   "execution_count": 3,
   "metadata": {},
   "outputs": [
    {
     "name": "stdout",
     "output_type": "stream",
     "text": [
      "1.098e-08 newton\n"
     ]
    }
   ],
   "source": [
    "Z_1 = 2\n",
    "Z_2 = -1\n",
    "r = Q_((0.072+0.133), \"nm\")\n",
    "F = 1/(4*pi*epsilon_o*(r)**2) * (Z_1*e)*(math.fabs(Z_2)*e)\n",
    "print(round(F.to(\"N\"),11))"
   ]
  },
  {
   "cell_type": "markdown",
   "metadata": {},
   "source": [
    "(a) The force of attraction between the two ions is 1.098e-08 Newton"
   ]
  },
  {
   "cell_type": "markdown",
   "metadata": {},
   "source": [
    "(b) At equilibirum interatonic seperation, the attractive and repulsive forces are equal and opposite therefore the repulsive force is -1.098e-08 Newton"
   ]
  },
  {
   "cell_type": "markdown",
   "metadata": {},
   "source": [
    "## Problem 2.18"
   ]
  },
  {
   "cell_type": "markdown",
   "metadata": {},
   "source": [
    "The net potential energy between two adjacent ions, $E_N$, may be represented by the sum of Equations 2.9 and 2.11; that is,\n",
    "\n",
    "$$E_N = -\\frac{A}{r} + \\frac{B}{r^n}$$\n",
    "\n",
    "Calculate the bonding energy $E_o$ in terms of the parameters A, B, and n using the following\n",
    "procedure:\n",
    "\n",
    "1. Differentiate $E_N$ with respect to r, and then set the resulting expression equal to zero, since the curve of $E_N$ versus r is a minimum at $E_o$.\n",
    "\n",
    "2. Solve for r in terms of A, B, and n, which yields $r_o$, the equilibrium interionic spacing. \n",
    "\n",
    "3. Determine the expression for $E_o$ by substitution of $r_o$ into Equation 2.17."
   ]
  },
  {
   "cell_type": "markdown",
   "metadata": {},
   "source": [
    "### Calculation"
   ]
  },
  {
   "cell_type": "markdown",
   "metadata": {},
   "source": [
    "First we will rearrange to make differentiation simpler:\n",
    "\n",
    "${E_N}= -A r^{-1} + B r^{-n}$\n",
    "\n",
    "Now differentiation is just a matter of power rule:\n",
    "\n",
    "$\\frac{dE_N}{dr}= A r^{-2} + -n B r^{-(n+1)}=0$\n",
    "\n",
    "Now we set it equal to zero and rearrange the equation to get $r(A,B,n)$, also known as $r_o$, the equilbrium interionic spacing:\n",
    "\n",
    "$\\frac{A}{r^2}=\\frac{nB}{r^{(n+1)}}$\n",
    "\n",
    "$\\frac{r^2}{r^{(n+1)}}=\\frac{A}{nB}$\n",
    "\n",
    "$r^2\\cdot {r^{-n-1}}=\\frac{A}{nB}$\n",
    "\n",
    "$r^{1-n} =\\frac{A}{nB}$\n",
    "\n",
    "$r_o = (\\frac{A}{nB})^{\\frac {1}{1-n}}$\n",
    "\n",
    "Now we can find the energy for $r_o$ also know as $E_o$:\n",
    "\n",
    "$E_o = -\\frac{A}{r_o} + \\frac{B}{{r_o}^n}$\n",
    "\n",
    "$E_o = -\\frac{A}{(\\frac{A}{nB})^{\\frac {1}{1-n}}} + \\frac{B}{(\\frac{A}{nB})^{\\frac {n}{1-n}}}$\n"
   ]
  },
  {
   "cell_type": "markdown",
   "metadata": {},
   "source": [
    "## Problem 2.19"
   ]
  },
  {
   "cell_type": "markdown",
   "metadata": {},
   "source": [
    "For a Na$^+$– Cl$^-$ ion pair, attractive and repulsive energies $E_A$ and $E_R$, respectively, depend on the distance between the ions r, according to\n",
    "\n",
    "$$E_A = \\frac{−1.436}{r}$$\n",
    "\n",
    "$$E_R = \\frac{7.32 × 10^{−6}}{r^8}$$\n",
    "\n",
    "For these expressions, energies are expressed in electron volts per Na$^+$– Cl$^-$ pair, and r is the distance in nanometers. The net energy $E_N$ is just the sum of the preceding two expressions.\n",
    "\n",
    "(a) Superimpose on a single plot $E_N$, $E_R$, and $E_A$ versus r up to 1.0 nm.\n",
    "\n",
    "(b) On the basis of this plot, determine \n",
    "\n",
    "* (i) the equilibrium spacing $r_o$ between the Na$^+$ and Cl$^-$ ions, and \n",
    " \n",
    "* (ii) the magnitude of the bonding energy $E_o$ between the two ions.\n",
    "\n",
    "(c) Mathematically determine the $r_o$ and $E_o$ values using the solutions to Problem 2.18, and compare these with the graphical results from part (b)."
   ]
  },
  {
   "cell_type": "code",
   "execution_count": 4,
   "metadata": {},
   "outputs": [
    {
     "data": {
      "image/png": "[encoded data removed]",
      "text/plain": [
       "<Figure size 432x288 with 1 Axes>"
      ]
     },
     "metadata": {
      "needs_background": "light"
     },
     "output_type": "display_data"
    }
   ],
   "source": [
    "A = 1.436\n",
    "B = (7.32*10**(-6))\n",
    "n = 8\n",
    "def E_A(r):\n",
    "    return(-A/r)\n",
    "\n",
    "def E_R(r):\n",
    "    return(B/(r**n))\n",
    "\n",
    "def E_N(r):\n",
    "    return E_A(r) + E_R(r)\n",
    "\n",
    "r = np.arange(0.01,1.0,0.01)\n",
    "\n",
    "\n",
    "plt.plot(r, E_A(r),\"r-\",label = \"$E_A$\")\n",
    "plt.plot(r, E_R(r),\"c-\",label = \"$E_R$\")\n",
    "plt.plot(r, E_N(r),\"b-\",label = \"$E_N$\")\n",
    "\n",
    "plt.ylim(-10.0,10.0)\n",
    "plt.xlabel(\"nm\")\n",
    "plt.ylabel(\"eV per Na$^+$–Cl$^-$\")\n",
    "plt.title(\"part (a)\")\n",
    "plt.legend()\n",
    "plt.show()"
   ]
  },
  {
   "cell_type": "code",
   "execution_count": 5,
   "metadata": {
    "scrolled": true
   },
   "outputs": [
    {
     "name": "stdout",
     "output_type": "stream",
     "text": [
      "r_0: 0.23600486025961642\n",
      "E_0: -5.324042897327585\n"
     ]
    }
   ],
   "source": [
    "r_0 = (A/(n*B))**(1/(1-n))\n",
    "print(\"r_0: {}\".format(r_0))\n",
    "E_0 = E_N(r_0)\n",
    "print(\"E_0: {}\".format(E_0))"
   ]
  },
  {
   "cell_type": "markdown",
   "metadata": {},
   "source": [
    "part (c):\n",
    "\n",
    "(i) $r_0$ = 0.236nm\n",
    "\n",
    "(ii) $E_0$ = -5.324 eV per Na$^+$–Cl$^-$"
   ]
  },
  {
   "cell_type": "markdown",
   "metadata": {},
   "source": [
    "## Problem 2.23"
   ]
  },
  {
   "cell_type": "markdown",
   "metadata": {},
   "source": [
    "Make a plot of bonding energy versus melting temperature for the metals listed in Table\n",
    "2.3. Using this plot, approximate the bonding energy for molybdenum, which has a melting temperature of 2617°C."
   ]
  },
  {
   "cell_type": "code",
   "execution_count": 6,
   "metadata": {},
   "outputs": [
    {
     "name": "stdout",
     "output_type": "stream",
     "text": [
      "y=0.2173x+115.3331\n"
     ]
    },
    {
     "data": {
      "image/png": "[encoded data removed]",
      "text/plain": [
       "<Figure size 432x288 with 1 Axes>"
      ]
     },
     "metadata": {
      "needs_background": "light"
     },
     "output_type": "display_data"
    }
   ],
   "source": [
    "def func(x,m,b):\n",
    "    return m*x + b\n",
    "\n",
    "\n",
    "x_points = [-39,660,962,3414]\n",
    "y_points = [62,350,285,850]\n",
    "\n",
    "m, b = np.polyfit(x_points, y_points, 1)\n",
    "\n",
    "t = np.arange(-1000,4000,100)\n",
    "\n",
    "plt.plot(t,func(t,m,b),\"k--\",label = \"Best Fit Line\")\n",
    "\n",
    "print(\"y={}x+{}\".format(round(m,4),round(b,4)))\n",
    "\n",
    "\n",
    "\n",
    "plt.plot(-39, 62,\"ro\",label = \"Hg\")\n",
    "plt.plot(660, 330,\"bo\",label = \"Al\")\n",
    "plt.plot(962, 285,\"co\",label = \"Ag\")\n",
    "plt.plot(3414, 850,\"go\",label = \"W\")\n",
    "\n",
    "\n",
    "plt.ylim(0,1000)\n",
    "plt.xlabel(\"Melting Temperature $(^oC)$\")\n",
    "plt.ylabel(\"Bonding Energy (kJ/mol)\")\n",
    "plt.title(\"part (a)\")\n",
    "plt.legend()\n",
    "plt.show()"
   ]
  },
  {
   "cell_type": "code",
   "execution_count": 7,
   "metadata": {
    "scrolled": true
   },
   "outputs": [
    {
     "name": "stdout",
     "output_type": "stream",
     "text": [
      "683.9126301226461\n"
     ]
    }
   ],
   "source": [
    "molybdenum = m * 2617 + b\n",
    "print(molybdenum)"
   ]
  },
  {
   "cell_type": "markdown",
   "metadata": {},
   "source": [
    "Molybdenum will have a melting point of approximently $684^oC$"
   ]
  },
  {
   "cell_type": "markdown",
   "metadata": {},
   "source": [
    "## Problem 2.25"
   ]
  },
  {
   "cell_type": "markdown",
   "metadata": {},
   "source": [
    "Compute the %IC of the interatomic bond for each of the following compounds: MgO, GaP, CsF, CdS, and FeO"
   ]
  },
  {
   "cell_type": "markdown",
   "metadata": {},
   "source": [
    "### Solution"
   ]
  },
  {
   "cell_type": "markdown",
   "metadata": {},
   "source": [
    "Important equations:\n",
    "1. $\\%IC = \\{1 - exp[-0.25(X_A-X_B)^2)]\\} \\times 100$\n",
    "\n",
    "    Where $X_A$ is the electronegativity of the electronegative element and $X_B$ is the electronegativity of the electropositive element"
   ]
  },
  {
   "cell_type": "code",
   "execution_count": 8,
   "metadata": {},
   "outputs": [
    {
     "name": "stdout",
     "output_type": "stream",
     "text": [
      "MgO %IC = 73.35%\n",
      "GaP %IC = 6.06%\n",
      "CsF %IC = 93.43%\n",
      "CdS %IC = 14.79%\n",
      "FeO %IC = 51.45%\n"
     ]
    }
   ],
   "source": [
    "X_Mg = 1.2\n",
    "X_O = 3.5\n",
    "X_Ga = 1.6\n",
    "X_P = 2.1\n",
    "X_Cs = 0.7\n",
    "X_F = 4\n",
    "X_Cd = 1.7\n",
    "X_S = 2.5\n",
    "X_Fe = 1.8\n",
    "\n",
    "def IC(X_A,X_B):\n",
    "    return round((1-np.exp(-(0.25)*(X_A - X_B)**2))*100,2)\n",
    "\n",
    "print(\"MgO %IC = {}%\".format(IC(X_Mg,X_O)))\n",
    "print(\"GaP %IC = {}%\".format(IC(X_Ga,X_P)))\n",
    "print(\"CsF %IC = {}%\".format(IC(X_Cs,X_F)))\n",
    "print(\"CdS %IC = {}%\".format(IC(X_Cd,X_S)))\n",
    "print(\"FeO %IC = {}%\".format(IC(X_Fe,X_O)))"
   ]
  },
  {
   "cell_type": "markdown",
   "metadata": {},
   "source": [
    "MgO %IC = 73.35%\n",
    "\n",
    "GaP %IC = 6.06%\n",
    "\n",
    "CsF %IC = 93.43%\n",
    "\n",
    "CdS %IC = 14.79%\n",
    "\n",
    "FeO %IC = 51.45%"
   ]
  },
  {
   "cell_type": "markdown",
   "metadata": {},
   "source": [
    "## Problem 2.26"
   ]
  },
  {
   "cell_type": "markdown",
   "metadata": {},
   "source": [
    "(a) Calculate %IC of the interatomic bonds for the intermetallic compound Al$_6$Mn. \n",
    "\n",
    "(b) On the basis of this result what type of interatomic bonding would you expect to be found in Al$_6$Mn?"
   ]
  },
  {
   "cell_type": "markdown",
   "metadata": {},
   "source": [
    "### Solution"
   ]
  },
  {
   "cell_type": "markdown",
   "metadata": {},
   "source": [
    "Important equations:\n",
    "1. $\\%IC = \\{1 - exp[-0.25(X_A-X_B)^2)]\\} \\times 100$\n",
    "\n",
    "    Where $X_A$ is the electronegativity of the electronegative element and $X_B$ is the electronegativity of the electropositive element"
   ]
  },
  {
   "cell_type": "code",
   "execution_count": 9,
   "metadata": {},
   "outputs": [
    {
     "name": "stdout",
     "output_type": "stream",
     "text": [
      "Al6Mn %IC = 0.09%\n"
     ]
    }
   ],
   "source": [
    "X_Al = 1.61\n",
    "X_Mn = 1.55\n",
    "\n",
    "def IC(X_A,X_B):\n",
    "    return round((1-np.exp(-(0.25)*(X_A - X_B)**2))*100,2)\n",
    "\n",
    "print(\"Al6Mn %IC = {}%\".format(IC(X_Al,X_Mn)))"
   ]
  },
  {
   "cell_type": "markdown",
   "metadata": {},
   "source": [
    "Al$_6$Mn %IC = 0.09%"
   ]
  },
  {
   "cell_type": "markdown",
   "metadata": {},
   "source": [
    "Because of the low %IC, I'd exspect this bond to be either covalent or metallic. Since the elements bonding are metal, I'd exspect this to be a metallic bond."
   ]
  }
 ],
 "metadata": {
  "kernelspec": {
   "display_name": "Python 3",
   "language": "python",
   "name": "python3"
  },
  "language_info": {
   "codemirror_mode": {
    "name": "ipython",
    "version": 3
   },
   "file_extension": ".py",
   "mimetype": "text/x-python",
   "name": "python",
   "nbconvert_exporter": "python",
   "pygments_lexer": "ipython3",
   "version": "3.8.3"
  }
 },
 "nbformat": 4,
 "nbformat_minor": 4
}
