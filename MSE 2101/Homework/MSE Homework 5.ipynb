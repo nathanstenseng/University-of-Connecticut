{
 "cells": [
  {
   "cell_type": "markdown",
   "metadata": {},
   "source": [
    "# MSE Homework 5"
   ]
  },
  {
   "cell_type": "code",
   "execution_count": 1,
   "metadata": {},
   "outputs": [],
   "source": [
    "from thermostate import Q_\n",
    "import math\n",
    "import numpy as np\n",
    "from scipy import special"
   ]
  },
  {
   "cell_type": "code",
   "execution_count": 2,
   "metadata": {},
   "outputs": [],
   "source": [
    "N_A = Q_(6.022e23, \"1/mol\")\n",
    "R =  Q_(8.31, \"J/(mol*K)\")"
   ]
  },
  {
   "cell_type": "markdown",
   "metadata": {},
   "source": [
    "## Problem 5.9 \n",
    "\n",
    "A sheet of steel 2.5-mm thick has nitrogen atmospheres on both sides at 900°C and is permitted to achieve a steady-state diffusion condition. The diffusion coefficient for nitrogen in steel at this temperature is 1.85 × 10$^{–10}$ m$^2$/s, and the diffusion flux is found to be 1.0 × 10$^{–7}$ kg/(m$^2\\cdot$s). Also, it is known that the concentration of nitrogen in the steel at the high-pressure surface is 2 kg/m$^3$. How far into the sheet from this high-pressure side will the concentration be 0.5 kg/m$^3$? Assume a linear concentration profile."
   ]
  },
  {
   "cell_type": "markdown",
   "metadata": {},
   "source": [
    "## Solution\n",
    "\n",
    "$$J= -D\\frac{\\Delta C}{\\Delta x} = -D\\frac{C_s-C_x}{0-x}$$\n",
    "\n",
    "Where:\n",
    "\n",
    "$J = 1.0\\times 10^{-7}$ kg/(m$^2\\cdot$s)\n",
    "\n",
    "$D = 1.85\\times 10^{-10}$ m$^2$/s\n",
    "\n",
    "$C_s = 2$ kg/m$^3$\n",
    "\n",
    "$C_x = 0.5$ kg/m$^3$\n",
    "\n",
    "Rearranging yields:\n",
    "\n",
    "$$x=D\\frac{C_s-C_x}{J}$$"
   ]
  },
  {
   "cell_type": "code",
   "execution_count": 3,
   "metadata": {},
   "outputs": [
    {
     "name": "stdout",
     "output_type": "stream",
     "text": [
      "2.775 millimeter\n"
     ]
    }
   ],
   "source": [
    "J = Q_(1.0e-7, \"kg/(m^2s)\")\n",
    "D = Q_(1.85e-10, \"m^2/s\")\n",
    "C_s = Q_(2, \"kg/m^3\")\n",
    "C_x = Q_(0.5, \"kg/m^3\")\n",
    "\n",
    "x = D * ((C_s-C_x)/J)\n",
    "print(x.to(\"mm\"))"
   ]
  },
  {
   "cell_type": "markdown",
   "metadata": {},
   "source": [
    "## Problem 5.13 \n",
    "\n",
    "Determine the carburizing time necessary to achieve a carbon concentration of 0.30 wt% at a position 4 mm into an iron–carbon alloy that initially contains 0.10 wt% C. The surface concentration is to be maintained at 0.90 wt% C, and the treatment is to be conducted at 1100°C. Use the diffusion data for γ-Fe in Table 5.2."
   ]
  },
  {
   "cell_type": "markdown",
   "metadata": {},
   "source": [
    "## Solution\n",
    "\n",
    "$$\\frac{C_x-C_o}{C_s-C_o} = 1-erf(\\frac{x}{2\\sqrt{Dt}})$$\n",
    "\n",
    "Where:\n",
    "   \n",
    "$C_x = 0.30$ wt% C\n",
    "\n",
    "$x = 4$ mm\n",
    "\n",
    "$C_o = 0.1$ wt% C\n",
    "\n",
    "$C_s = 0.9$ wt% C\n",
    "\n",
    "$D = D_oexp(-\\frac{Q_d}{RT})$\n",
    "\n",
    "$\\qquad$Where from table 5.2 we see:\n",
    "\n",
    "$\\qquad D_o = 2.3\\times 10^{-5}$ m$^2$/s\n",
    "\n",
    "$\\qquad Q_d = 148000$ J/mol\n",
    "\n",
    "$\\qquad T = 1100$ $^o$C"
   ]
  },
  {
   "cell_type": "code",
   "execution_count": 4,
   "metadata": {},
   "outputs": [
    {
     "name": "stdout",
     "output_type": "stream",
     "text": [
      "5.356645943494753e-11 meter ** 2 / second\n"
     ]
    }
   ],
   "source": [
    "D_o = Q_(2.3e-5, \"m^2/s\")\n",
    "Q_d = Q_(148000, \"J/mol\")\n",
    "T = Q_(1100, \"degC\")\n",
    "D = D_o * np.exp(- Q_d / (R*T))\n",
    "print(D)"
   ]
  },
  {
   "cell_type": "markdown",
   "metadata": {},
   "source": [
    "Rearranging yields:\n",
    "\n",
    "$$erf(\\frac{x}{2\\sqrt{Dt}}) = -\\frac{C_x-C_o}{C_s-C_o}+1$$"
   ]
  },
  {
   "cell_type": "code",
   "execution_count": 5,
   "metadata": {},
   "outputs": [
    {
     "name": "stdout",
     "output_type": "stream",
     "text": [
      "0.75 dimensionless\n"
     ]
    }
   ],
   "source": [
    "C_x = Q_(0.3, \"dimensionless\")\n",
    "C_s =Q_(0.9, \"dimensionless\")\n",
    "C_o =Q_(0.1, \"dimensionless\")\n",
    "\n",
    "erfz = -(C_x-C_o)/(C_s-C_o) + 1 \n",
    "print(erfz)"
   ]
  },
  {
   "cell_type": "markdown",
   "metadata": {},
   "source": [
    "$$erf(z) = 0.75$$\n",
    "\n",
    "Refer to the erf table 5.1 to find z"
   ]
  },
  {
   "cell_type": "code",
   "execution_count": 6,
   "metadata": {},
   "outputs": [
    {
     "name": "stdout",
     "output_type": "stream",
     "text": [
      "0.8134\n"
     ]
    }
   ],
   "source": [
    "z = special.erfinv(erfz)\n",
    "print(z.round(4))"
   ]
  },
  {
   "cell_type": "markdown",
   "metadata": {},
   "source": [
    "$$z=\\frac{x}{2\\sqrt{Dt}}$$\n",
    "\n",
    "Rearranging yields:\n",
    "\n",
    "$$t = \\frac{x^2}{4 D z^2 }$$"
   ]
  },
  {
   "cell_type": "code",
   "execution_count": 7,
   "metadata": {},
   "outputs": [
    {
     "name": "stdout",
     "output_type": "stream",
     "text": [
      "112859.34 second\n",
      "31.3 hour\n"
     ]
    }
   ],
   "source": [
    "x = Q_(4, \"mm\")\n",
    "\n",
    "t = (x**2)/(4 * D * z**2 )\n",
    "print(t.to(\"s\").round(2))\n",
    "print(t.to(\"hours\").round(1))"
   ]
  },
  {
   "cell_type": "markdown",
   "metadata": {},
   "source": [
    "## Problem 5.19 \n",
    "\n",
    "For a steel alloy it has been determined that a carburizing heat treatment of 15 h duration will raise the carbon concentration to 0.35 wt% at a point 2.0 mm from the surface. Estimate the time necessary to achieve the same concentration at a 6.0-mm position for an identical steel and at the same carburizing temperature"
   ]
  },
  {
   "cell_type": "markdown",
   "metadata": {},
   "source": [
    "## Solution\n",
    "\n",
    "$$\\frac{x^2_1}{t_1} = \\frac{x^2_2}{t_2}$$\n",
    "\n",
    "Where:\n",
    "\n",
    "$x_1 = 2.0$ mm\n",
    "\n",
    "$t_1 = 15$ h\n",
    "\n",
    "$x_2 = 6.0$ mm\n",
    "\n",
    "Rearranging yeilds:\n",
    "\n",
    "$$t_2 = \\frac{t_1 x^2_2}{x^2_1}$$"
   ]
  },
  {
   "cell_type": "code",
   "execution_count": 8,
   "metadata": {},
   "outputs": [
    {
     "name": "stdout",
     "output_type": "stream",
     "text": [
      "135.0 hour\n"
     ]
    }
   ],
   "source": [
    "x_1 = Q_(2, \"mm\")\n",
    "t_1 = Q_(15, \"hours\")\n",
    "x_2 = Q_(6, \"mm\")\n",
    "\n",
    "t_2 = (t_1 * x_2**2)/(x_1**2)\n",
    "print(t_2)"
   ]
  },
  {
   "cell_type": "markdown",
   "metadata": {},
   "source": [
    "## Problem 5.34 \n",
    "\n",
    "At approximately what temperature would a specimen of γ-iron have to be carburized for 4h to produce the same diffusion result as carburization at 1000°C for 12 h?"
   ]
  },
  {
   "cell_type": "markdown",
   "metadata": {},
   "source": [
    "$$D_1t_1 = D_2t_2$$\n",
    "\n",
    "Where:\n",
    "\n",
    "$t_1 = 12$ h\n",
    "\n",
    "$t_2 = 4$ h\n",
    "\n",
    "$T_1 = 1000$ $^oC$\n",
    "\n",
    "$D = D_oexp(-\\frac{Q_d}{RT})$\n",
    "\n",
    "$\\qquad$Where from table 5.2 we see:\n",
    "\n",
    "$\\qquad D_o = 2.3\\times 10^{-5}$ m$^2$/s\n",
    "\n",
    "$\\qquad Q_d = 148000$ J/mol\n",
    "\n",
    "Rearranging yields:\n",
    "\n",
    "$$D_2 = \\frac{t_1}{t_2} D_1$$\n",
    "\n",
    "$$e^{-\\frac{Q_d}{RT_2}} = \\frac{t_1}{t_2} e^{-\\frac{Q_d}{RT_1}}$$\n",
    "\n",
    "$$ln(e^{-\\frac{Q_d}{RT_2}}) = ln(\\frac{t_1}{t_2}) + ln(e^{-\\frac{Q_d}{RT_1}})$$\n",
    "\n",
    "$$-\\frac{Q_d}{RT_2} = ln(\\frac{t_1}{t_2}) -\\frac{Q_d}{RT_1}$$\n",
    "\n",
    "$$T_2 = -\\frac{Q_d}{R(ln(\\frac{t_1}{t_2}) -\\frac{Q_d}{RT_1})}$$"
   ]
  },
  {
   "cell_type": "code",
   "execution_count": 9,
   "metadata": {},
   "outputs": [
    {
     "name": "stdout",
     "output_type": "stream",
     "text": [
      "1108.51 degC\n"
     ]
    }
   ],
   "source": [
    "t_1 = Q_(12, \"hours\")\n",
    "t_2 = Q_(4, \"hours\")\n",
    "T_1 = Q_(1000, \"degC\")\n",
    "D_o = Q_(2.3e-5, \"m^2/s\")\n",
    "Q_d = Q_(148000, \"J/mol\")\n",
    "\n",
    "T_2 = -(Q_d)/(R*(np.log(t_1/t_2)-Q_d/(R*T_1)))\n",
    "print(T_2.to(\"degC\").round(2))"
   ]
  },
  {
   "cell_type": "markdown",
   "metadata": {},
   "source": [
    "## Problem 5.35 \n",
    "\n",
    "(a) Calculate the diffusion coefficient for magnesium in aluminum at 450°C.\n",
    "\n",
    "(b) What time will be required at 550°C to produce the same diffusion result (in terms of concentration at a specific point) as for 15 h at 450°C?"
   ]
  },
  {
   "cell_type": "markdown",
   "metadata": {},
   "source": [
    "## Solution\n",
    "\n",
    "part (a)\n",
    "\n",
    "$$D = D_oexp(-\\frac{Q_d}{RT})$$\n",
    "\n",
    "Where from table 5.2 we see:\n",
    "\n",
    "$D_o = 1.2\\times 10^{-4}$ m$^2$/s\n",
    "\n",
    "$Q_d = 130000$ J/mol"
   ]
  },
  {
   "cell_type": "code",
   "execution_count": 10,
   "metadata": {},
   "outputs": [
    {
     "name": "stdout",
     "output_type": "stream",
     "text": [
      "4.8322518082037884e-14 meter ** 2 / second\n"
     ]
    }
   ],
   "source": [
    "D_o = Q_(1.2e-4, \"m^2/s\")\n",
    "Q_d = Q_(130000, \"J/mol\")\n",
    "T = Q_(450, \"degC\")\n",
    "\n",
    "D_1 = D_o * np.exp(- Q_d / (R*T))\n",
    "print(D_1)"
   ]
  },
  {
   "cell_type": "markdown",
   "metadata": {},
   "source": [
    "part (b)\n",
    "\n",
    "$$D_1t_1 = D_2t_2$$"
   ]
  },
  {
   "cell_type": "code",
   "execution_count": 11,
   "metadata": {},
   "outputs": [
    {
     "name": "stdout",
     "output_type": "stream",
     "text": [
      "1.08 hour\n"
     ]
    }
   ],
   "source": [
    "D_o = Q_(1.2e-4, \"m^2/s\")\n",
    "Q_d = Q_(130000, \"J/mol\")\n",
    "T = Q_(550, \"degC\")\n",
    "\n",
    "t_1 = Q_(15, \"hours\")\n",
    "D_2 =  D_o * np.exp(- Q_d / (R*T))\n",
    "t_2 = D_1*t_1/D_2\n",
    "print(t_2.round(2))"
   ]
  }
 ],
 "metadata": {
  "kernelspec": {
   "display_name": "Python 3",
   "language": "python",
   "name": "python3"
  },
  "language_info": {
   "codemirror_mode": {
    "name": "ipython",
    "version": 3
   },
   "file_extension": ".py",
   "mimetype": "text/x-python",
   "name": "python",
   "nbconvert_exporter": "python",
   "pygments_lexer": "ipython3",
   "version": "3.8.3"
  }
 },
 "nbformat": 4,
 "nbformat_minor": 4
}
