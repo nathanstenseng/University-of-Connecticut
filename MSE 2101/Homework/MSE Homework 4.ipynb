{
 "cells": [
  {
   "cell_type": "markdown",
   "metadata": {},
   "source": [
    "# MSE Homework 4"
   ]
  },
  {
   "cell_type": "code",
   "execution_count": 1,
   "metadata": {},
   "outputs": [],
   "source": [
    "from thermostate import Q_\n",
    "import math\n",
    "import numpy as np"
   ]
  },
  {
   "cell_type": "code",
   "execution_count": 2,
   "metadata": {},
   "outputs": [],
   "source": [
    "N_A = Q_(6.022e23, \"1/mol\")"
   ]
  },
  {
   "cell_type": "markdown",
   "metadata": {},
   "source": [
    "## Problem 4.4 \n",
    "\n",
    "Calculate the number of vacancies per cubic meter in gold (Au) at 900°C. The energy forvacancy formation is 0.98 eV/atom. Furthermore, the density and atomic weight for Au are 18.63 g/cm$^3$ (at 900°C) and 196.9 g/mol, respectively."
   ]
  },
  {
   "cell_type": "markdown",
   "metadata": {},
   "source": [
    "## Solution\n",
    "\n",
    "$$N_v = N exp(\\frac{-Q_v}{kT})$$\n",
    "\n",
    "Where:\n",
    "\n",
    "$Q_v = 0.98$ eV/atom\n",
    "\n",
    "$T = 900^oC$ \n",
    "\n",
    "$N = \\frac{N_A\\rho}{A}$\n",
    "\n",
    "$\\qquad \\rho = 18.63$ g/cm$^3$\n",
    "\n",
    "$\\qquad A = 196.9$ g/mol\n",
    "\n",
    "$k =  8.62\\times10^{-5}$ eV/(atoms$\\cdot$K)"
   ]
  },
  {
   "cell_type": "code",
   "execution_count": 3,
   "metadata": {},
   "outputs": [
    {
     "name": "stdout",
     "output_type": "stream",
     "text": [
      "5.697809040121889e+22 / centimeter ** 3\n",
      "3.52364642740981e+24 / meter ** 3\n"
     ]
    }
   ],
   "source": [
    "Q_v = Q_(0.98, \"eV\")\n",
    "T = Q_(900, \"degC\")\n",
    "rho = Q_(18.63, \"g/cm^3\")\n",
    "A = Q_(196.9, \"g/mol\")\n",
    "N = (N_A * rho)/(A)\n",
    "k = Q_(8.62e-5, \"eV/K\")\n",
    "\n",
    "\n",
    "N_v = N * np.exp((-Q_v)/(k*T))\n",
    "print(N_v.to(\"m^-3\"))"
   ]
  },
  {
   "cell_type": "markdown",
   "metadata": {},
   "source": [
    "## Problem 4.5 \n",
    "\n",
    "Calculate the energy for vacancy formation in nickel (Ni), given that the equilibrium number of vacancies at 850°C (1123 K) is $4.7 × 10^{22}$ m$^{–3}$. The atomic weight and density (at 850°C) for Ni are, respectively, 58.69 g/mol and 8.80 g/cm$^3$."
   ]
  },
  {
   "cell_type": "markdown",
   "metadata": {},
   "source": [
    "## Solution\n",
    "\n",
    "$$N_v = N exp(\\frac{-Q_v}{kT}) \\Rightarrow Q_v = -kTln(\\frac{N_v}{N})$$\n",
    "\n",
    "Where:\n",
    "\n",
    "$N_v = 4.7\\times10^{22}$ m$^{-3}$\n",
    "\n",
    "$T = 1123$ K \n",
    "\n",
    "$N = \\frac{N_A\\rho}{A}$\n",
    "\n",
    "$\\qquad \\rho = 8.80$ g/cm$^3$\n",
    "\n",
    "$\\qquad A = 58.69$ g/mol\n",
    "\n",
    "$k =  8.62\\times10^{-5}$ eV/(atoms$\\cdot$K)"
   ]
  },
  {
   "cell_type": "code",
   "execution_count": 4,
   "metadata": {},
   "outputs": [
    {
     "name": "stdout",
     "output_type": "stream",
     "text": [
      "1.4006 electron_volt\n"
     ]
    }
   ],
   "source": [
    "N_v = Q_(4.7e22, \"m**(-3)\")\n",
    "T = Q_(1123, \"K\")\n",
    "rho = Q_(8.8, \"g/cm^3\")\n",
    "A = Q_(58.69, \"g/mol\")\n",
    "k = Q_(8.62e-5, \"eV/K\")\n",
    "N = (N_A*rho)/(A)\n",
    "\n",
    "Q_v = -k*T*np.log(N_v/N)\n",
    "print(Q_v.round(4))"
   ]
  },
  {
   "cell_type": "markdown",
   "metadata": {},
   "source": [
    "## Problem 4.17 \n",
    "\n",
    "What is the composition, in atom percent, of an alloy that contains 33 g of copper and 47 g of zinc?"
   ]
  },
  {
   "cell_type": "markdown",
   "metadata": {},
   "source": [
    "## Solution\n",
    "\n",
    "$$at\\% = \\frac{n_{m1}}{n_{m1}+n_{m2}}\\times 100$$\n",
    "\n",
    "Where:\n",
    "\n",
    "$n_m = \\frac{m}{A}$"
   ]
  },
  {
   "cell_type": "code",
   "execution_count": 5,
   "metadata": {},
   "outputs": [
    {
     "name": "stdout",
     "output_type": "stream",
     "text": [
      "41.94 dimensionless\n",
      "58.06 dimensionless\n"
     ]
    }
   ],
   "source": [
    "#1 is copper, 2 is zinc\n",
    "m_1 = Q_(33, \"g\")\n",
    "m_2 = Q_(47, \"g\")\n",
    "A_1 = Q_(63.546, \"g/mol\")\n",
    "A_2 = Q_(65.38, \"g/mol\") \n",
    "n_m1 = m_1/A_1\n",
    "n_m2 = m_2/A_2\n",
    "at_cu = n_m1/(n_m1+n_m2)*100\n",
    "print(at_cu.round(2))\n",
    "at_zn = 100 - at_cu\n",
    "print(at_zn.round(2))"
   ]
  }
 ],
 "metadata": {
  "kernelspec": {
   "display_name": "Python 3",
   "language": "python",
   "name": "python3"
  },
  "language_info": {
   "codemirror_mode": {
    "name": "ipython",
    "version": 3
   },
   "file_extension": ".py",
   "mimetype": "text/x-python",
   "name": "python",
   "nbconvert_exporter": "python",
   "pygments_lexer": "ipython3",
   "version": "3.8.3"
  }
 },
 "nbformat": 4,
 "nbformat_minor": 4
}
